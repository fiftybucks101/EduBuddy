{
 "cells": [
  {
   "cell_type": "code",
   "execution_count": 1,
   "id": "19166167",
   "metadata": {},
   "outputs": [],
   "source": [
    "from sqlalchemy import create_engine, Column, Integer, String\n",
    "from sqlalchemy.orm import sessionmaker, declarative_base, Session"
   ]
  },
  {
   "cell_type": "code",
   "execution_count": 2,
   "id": "1b0f8c68",
   "metadata": {},
   "outputs": [],
   "source": [
    "DATABASE_URL = \"sqlite:///./test.db\""
   ]
  },
  {
   "cell_type": "code",
   "execution_count": 3,
   "id": "8f360df1",
   "metadata": {},
   "outputs": [],
   "source": [
    "engine = create_engine(DATABASE_URL, connect_args={\"check_same_thread\": False})"
   ]
  },
  {
   "cell_type": "code",
   "execution_count": 4,
   "id": "96098252",
   "metadata": {},
   "outputs": [
    {
     "name": "stdout",
     "output_type": "stream",
     "text": [
      "Engine(sqlite:///./test.db)\n"
     ]
    }
   ],
   "source": [
    "print(engine)"
   ]
  },
  {
   "cell_type": "code",
   "execution_count": 5,
   "id": "ab94508b",
   "metadata": {},
   "outputs": [],
   "source": [
    "Base = declarative_base()"
   ]
  },
  {
   "cell_type": "code",
   "execution_count": 14,
   "id": "11978acd",
   "metadata": {},
   "outputs": [
    {
     "name": "stdout",
     "output_type": "stream",
     "text": [
      "<class 'sqlalchemy.orm.decl_api.Base'>\n"
     ]
    }
   ],
   "source": [
    "print(Base)"
   ]
  },
  {
   "cell_type": "code",
   "execution_count": null,
   "id": "8982ba70",
   "metadata": {},
   "outputs": [],
   "source": [
    "class Userr(Base):\n",
    "    __tablename__ = \"usersss\"\n",
    "\n",
    "    id = Column(Integer, primary_key=True, index=True)\n",
    "    name = Column(String)\n",
    "    email = Column(String)"
   ]
  },
  {
   "cell_type": "code",
   "execution_count": 7,
   "id": "815d0374",
   "metadata": {},
   "outputs": [],
   "source": [
    "SessionLocal = sessionmaker(bind=engine, autocommit=False, autoflush=False )"
   ]
  },
  {
   "cell_type": "code",
   "execution_count": 6,
   "id": "d5c14510",
   "metadata": {},
   "outputs": [],
   "source": [
    "Base.metadata.create_all(bind=engine)"
   ]
  },
  {
   "cell_type": "code",
   "execution_count": 8,
   "id": "8287a93e",
   "metadata": {},
   "outputs": [],
   "source": [
    "db = SessionLocal()"
   ]
  },
  {
   "cell_type": "code",
   "execution_count": null,
   "id": "2e393574",
   "metadata": {},
   "outputs": [],
   "source": [
    "db.query(User)"
   ]
  },
  {
   "cell_type": "code",
   "execution_count": 19,
   "id": "3a380e8c",
   "metadata": {},
   "outputs": [
    {
     "name": "stdout",
     "output_type": "stream",
     "text": [
      "<sqlalchemy.orm.session.Session object at 0x000002201526F850>\n"
     ]
    }
   ],
   "source": [
    "print(db)"
   ]
  },
  {
   "cell_type": "code",
   "execution_count": 18,
   "id": "821dc7c7",
   "metadata": {},
   "outputs": [],
   "source": [
    "new_user = Userr(name=\"Alicey\", email=\"alicey@example.com\")\n",
    "db.add(new_user)\n",
    "db.commit()"
   ]
  },
  {
   "cell_type": "code",
   "execution_count": 19,
   "id": "31cee01e",
   "metadata": {},
   "outputs": [
    {
     "name": "stdout",
     "output_type": "stream",
     "text": [
      "User added: 2, Alicey, alicey@example.com\n"
     ]
    }
   ],
   "source": [
    "db.refresh(new_user)\n",
    "print(f\"User added: {new_user.id}, {new_user.name}, {new_user.email}\")"
   ]
  },
  {
   "cell_type": "code",
   "execution_count": 26,
   "id": "4df46de9",
   "metadata": {},
   "outputs": [],
   "source": [
    "def get_user_by_email(db: Session, email: str):\n",
    "    return db.query(Userr).filter(Userr.email == email).first()"
   ]
  },
  {
   "cell_type": "code",
   "execution_count": 29,
   "id": "f6bbbcb0",
   "metadata": {},
   "outputs": [
    {
     "data": {
      "text/plain": [
       "'Alicey'"
      ]
     },
     "execution_count": 29,
     "metadata": {},
     "output_type": "execute_result"
    }
   ],
   "source": [
    "email_info = get_user_by_email(db, 'alicey@example.com')\n",
    "email_info.name"
   ]
  },
  {
   "cell_type": "code",
   "execution_count": 30,
   "id": "a5e41b51",
   "metadata": {},
   "outputs": [],
   "source": [
    "db.close()"
   ]
  },
  {
   "cell_type": "code",
   "execution_count": 33,
   "id": "330981b7",
   "metadata": {},
   "outputs": [],
   "source": [
    "db = SessionLocal()"
   ]
  },
  {
   "cell_type": "code",
   "execution_count": 36,
   "id": "341eaa9b",
   "metadata": {},
   "outputs": [],
   "source": [
    "def create_user(db: Session, email: str, role: str = \"student\"):\n",
    "    user = Userr(email=email, role=role)\n",
    "    db.add(user)\n",
    "    db.commit()\n",
    "    db.refresh(user)\n",
    "    return user"
   ]
  },
  {
   "cell_type": "code",
   "execution_count": 37,
   "id": "5cb9e353",
   "metadata": {},
   "outputs": [
    {
     "ename": "TypeError",
     "evalue": "'role' is an invalid keyword argument for Userr",
     "output_type": "error",
     "traceback": [
      "\u001b[31m---------------------------------------------------------------------------\u001b[39m",
      "\u001b[31mTypeError\u001b[39m                                 Traceback (most recent call last)",
      "\u001b[36mCell\u001b[39m\u001b[36m \u001b[39m\u001b[32mIn[37]\u001b[39m\u001b[32m, line 1\u001b[39m\n\u001b[32m----> \u001b[39m\u001b[32m1\u001b[39m brand_new_user = \u001b[43mcreate_user\u001b[49m\u001b[43m(\u001b[49m\u001b[43mdb\u001b[49m\u001b[43m,\u001b[49m\u001b[43m \u001b[49m\u001b[43memail\u001b[49m\u001b[43m=\u001b[49m\u001b[33;43m'\u001b[39;49m\u001b[33;43mbillejeans@gmail.com\u001b[39;49m\u001b[33;43m'\u001b[39;49m\u001b[43m)\u001b[49m\n",
      "\u001b[36mCell\u001b[39m\u001b[36m \u001b[39m\u001b[32mIn[36]\u001b[39m\u001b[32m, line 2\u001b[39m, in \u001b[36mcreate_user\u001b[39m\u001b[34m(db, email, role)\u001b[39m\n\u001b[32m      1\u001b[39m \u001b[38;5;28;01mdef\u001b[39;00m\u001b[38;5;250m \u001b[39m\u001b[34mcreate_user\u001b[39m(db: Session, email: \u001b[38;5;28mstr\u001b[39m, role: \u001b[38;5;28mstr\u001b[39m = \u001b[33m\"\u001b[39m\u001b[33mstudent\u001b[39m\u001b[33m\"\u001b[39m):\n\u001b[32m----> \u001b[39m\u001b[32m2\u001b[39m     user = \u001b[43mUserr\u001b[49m\u001b[43m(\u001b[49m\u001b[43memail\u001b[49m\u001b[43m=\u001b[49m\u001b[43memail\u001b[49m\u001b[43m,\u001b[49m\u001b[43m \u001b[49m\u001b[43mrole\u001b[49m\u001b[43m=\u001b[49m\u001b[43mrole\u001b[49m\u001b[43m)\u001b[49m\n\u001b[32m      3\u001b[39m     db.add(user)\n\u001b[32m      4\u001b[39m     db.commit()\n",
      "\u001b[36mFile \u001b[39m\u001b[32m<string>:4\u001b[39m, in \u001b[36m__init__\u001b[39m\u001b[34m(self, **kwargs)\u001b[39m\n",
      "\u001b[36mFile \u001b[39m\u001b[32mc:\\Users\\thinkpad\\anaconda3\\envs\\edubuddy_env\\Lib\\site-packages\\sqlalchemy\\orm\\state.py:571\u001b[39m, in \u001b[36mInstanceState._initialize_instance\u001b[39m\u001b[34m(*mixed, **kwargs)\u001b[39m\n\u001b[32m    569\u001b[39m     manager.original_init(*mixed[\u001b[32m1\u001b[39m:], **kwargs)\n\u001b[32m    570\u001b[39m \u001b[38;5;28;01mexcept\u001b[39;00m:\n\u001b[32m--> \u001b[39m\u001b[32m571\u001b[39m \u001b[43m    \u001b[49m\u001b[38;5;28;43;01mwith\u001b[39;49;00m\u001b[43m \u001b[49m\u001b[43mutil\u001b[49m\u001b[43m.\u001b[49m\u001b[43msafe_reraise\u001b[49m\u001b[43m(\u001b[49m\u001b[43m)\u001b[49m\u001b[43m:\u001b[49m\n\u001b[32m    572\u001b[39m \u001b[43m        \u001b[49m\u001b[43mmanager\u001b[49m\u001b[43m.\u001b[49m\u001b[43mdispatch\u001b[49m\u001b[43m.\u001b[49m\u001b[43minit_failure\u001b[49m\u001b[43m(\u001b[49m\u001b[38;5;28;43mself\u001b[39;49m\u001b[43m,\u001b[49m\u001b[43m \u001b[49m\u001b[43margs\u001b[49m\u001b[43m,\u001b[49m\u001b[43m \u001b[49m\u001b[43mkwargs\u001b[49m\u001b[43m)\u001b[49m\n",
      "\u001b[36mFile \u001b[39m\u001b[32mc:\\Users\\thinkpad\\anaconda3\\envs\\edubuddy_env\\Lib\\site-packages\\sqlalchemy\\util\\langhelpers.py:224\u001b[39m, in \u001b[36msafe_reraise.__exit__\u001b[39m\u001b[34m(self, type_, value, traceback)\u001b[39m\n\u001b[32m    222\u001b[39m     \u001b[38;5;28;01massert\u001b[39;00m exc_value \u001b[38;5;129;01mis\u001b[39;00m \u001b[38;5;129;01mnot\u001b[39;00m \u001b[38;5;28;01mNone\u001b[39;00m\n\u001b[32m    223\u001b[39m     \u001b[38;5;28mself\u001b[39m._exc_info = \u001b[38;5;28;01mNone\u001b[39;00m  \u001b[38;5;66;03m# remove potential circular references\u001b[39;00m\n\u001b[32m--> \u001b[39m\u001b[32m224\u001b[39m     \u001b[38;5;28;01mraise\u001b[39;00m exc_value.with_traceback(exc_tb)\n\u001b[32m    225\u001b[39m \u001b[38;5;28;01melse\u001b[39;00m:\n\u001b[32m    226\u001b[39m     \u001b[38;5;28mself\u001b[39m._exc_info = \u001b[38;5;28;01mNone\u001b[39;00m  \u001b[38;5;66;03m# remove potential circular references\u001b[39;00m\n",
      "\u001b[36mFile \u001b[39m\u001b[32mc:\\Users\\thinkpad\\anaconda3\\envs\\edubuddy_env\\Lib\\site-packages\\sqlalchemy\\orm\\state.py:569\u001b[39m, in \u001b[36mInstanceState._initialize_instance\u001b[39m\u001b[34m(*mixed, **kwargs)\u001b[39m\n\u001b[32m    566\u001b[39m manager.dispatch.init(\u001b[38;5;28mself\u001b[39m, args, kwargs)\n\u001b[32m    568\u001b[39m \u001b[38;5;28;01mtry\u001b[39;00m:\n\u001b[32m--> \u001b[39m\u001b[32m569\u001b[39m     \u001b[43mmanager\u001b[49m\u001b[43m.\u001b[49m\u001b[43moriginal_init\u001b[49m\u001b[43m(\u001b[49m\u001b[43m*\u001b[49m\u001b[43mmixed\u001b[49m\u001b[43m[\u001b[49m\u001b[32;43m1\u001b[39;49m\u001b[43m:\u001b[49m\u001b[43m]\u001b[49m\u001b[43m,\u001b[49m\u001b[43m \u001b[49m\u001b[43m*\u001b[49m\u001b[43m*\u001b[49m\u001b[43mkwargs\u001b[49m\u001b[43m)\u001b[49m\n\u001b[32m    570\u001b[39m \u001b[38;5;28;01mexcept\u001b[39;00m:\n\u001b[32m    571\u001b[39m     \u001b[38;5;28;01mwith\u001b[39;00m util.safe_reraise():\n",
      "\u001b[36mFile \u001b[39m\u001b[32mc:\\Users\\thinkpad\\anaconda3\\envs\\edubuddy_env\\Lib\\site-packages\\sqlalchemy\\orm\\decl_base.py:2179\u001b[39m, in \u001b[36m_declarative_constructor\u001b[39m\u001b[34m(self, **kwargs)\u001b[39m\n\u001b[32m   2177\u001b[39m \u001b[38;5;28;01mfor\u001b[39;00m k \u001b[38;5;129;01min\u001b[39;00m kwargs:\n\u001b[32m   2178\u001b[39m     \u001b[38;5;28;01mif\u001b[39;00m \u001b[38;5;129;01mnot\u001b[39;00m \u001b[38;5;28mhasattr\u001b[39m(cls_, k):\n\u001b[32m-> \u001b[39m\u001b[32m2179\u001b[39m         \u001b[38;5;28;01mraise\u001b[39;00m \u001b[38;5;167;01mTypeError\u001b[39;00m(\n\u001b[32m   2180\u001b[39m             \u001b[33m\"\u001b[39m\u001b[38;5;132;01m%r\u001b[39;00m\u001b[33m is an invalid keyword argument for \u001b[39m\u001b[38;5;132;01m%s\u001b[39;00m\u001b[33m\"\u001b[39m % (k, cls_.\u001b[34m__name__\u001b[39m)\n\u001b[32m   2181\u001b[39m         )\n\u001b[32m   2182\u001b[39m     \u001b[38;5;28msetattr\u001b[39m(\u001b[38;5;28mself\u001b[39m, k, kwargs[k])\n",
      "\u001b[31mTypeError\u001b[39m: 'role' is an invalid keyword argument for Userr"
     ]
    }
   ],
   "source": [
    "brand_new_user = create_user(db, email='billejeans@gmail.com')"
   ]
  },
  {
   "cell_type": "code",
   "execution_count": 23,
   "id": "4cab7fcc",
   "metadata": {},
   "outputs": [
    {
     "name": "stdout",
     "output_type": "stream",
     "text": [
      "Userr.email\n"
     ]
    }
   ],
   "source": [
    "print(Userr.email)"
   ]
  },
  {
   "cell_type": "code",
   "execution_count": 20,
   "id": "0667c6b8",
   "metadata": {},
   "outputs": [],
   "source": [
    "def get_user_by_email(db: Session, email: str):\n",
    "    return db.query(Userr).filter(Userr.email == email).first()"
   ]
  },
  {
   "cell_type": "code",
   "execution_count": 24,
   "id": "61d4c834",
   "metadata": {},
   "outputs": [],
   "source": [
    "email_info = get_user_by_email(db, 'alice@example.com')"
   ]
  },
  {
   "cell_type": "code",
   "execution_count": 25,
   "id": "176fdc24",
   "metadata": {},
   "outputs": [
    {
     "data": {
      "text/plain": [
       "'alice@example.com'"
      ]
     },
     "execution_count": 25,
     "metadata": {},
     "output_type": "execute_result"
    }
   ],
   "source": [
    "email_info.email"
   ]
  },
  {
   "cell_type": "code",
   "execution_count": null,
   "id": "905b080f",
   "metadata": {},
   "outputs": [
    {
     "name": "stdout",
     "output_type": "stream",
     "text": [
      "[<__main__.Userr object at 0x00000220144CF790>]\n"
     ]
    }
   ],
   "source": [
    "db = SessionLocal()\n",
    "\n",
    "users = db.query(Userr).all()\n",
    "\n",
    "print(users)"
   ]
  },
  {
   "cell_type": "code",
   "execution_count": 25,
   "id": "ae52da0d",
   "metadata": {},
   "outputs": [],
   "source": [
    "new_user = Userr(name=\"Bob\", email=\"Bob@example.com\")\n",
    "db.add(new_user)\n",
    "db.commit()"
   ]
  },
  {
   "cell_type": "code",
   "execution_count": 26,
   "id": "a2bab63a",
   "metadata": {},
   "outputs": [
    {
     "name": "stdout",
     "output_type": "stream",
     "text": [
      "User added: 2, Bob, Bob@example.com\n"
     ]
    }
   ],
   "source": [
    "db.refresh(new_user)\n",
    "print(f\"User added: {new_user.id}, {new_user.name}, {new_user.email}\")"
   ]
  },
  {
   "cell_type": "code",
   "execution_count": 27,
   "id": "e01d5c55",
   "metadata": {},
   "outputs": [
    {
     "name": "stdout",
     "output_type": "stream",
     "text": [
      "[<__main__.Userr object at 0x00000220144CF790>, <__main__.Userr object at 0x0000022015297310>]\n"
     ]
    }
   ],
   "source": [
    "users = db.query(Userr).all()\n",
    "\n",
    "print(users)"
   ]
  },
  {
   "cell_type": "code",
   "execution_count": 28,
   "id": "22be42bb",
   "metadata": {},
   "outputs": [
    {
     "name": "stdout",
     "output_type": "stream",
     "text": [
      "1 Alice alice@example.com\n",
      "2 Bob Bob@example.com\n"
     ]
    }
   ],
   "source": [
    "for user in users:\n",
    "    print(user.id, user.name, user.email)"
   ]
  },
  {
   "cell_type": "code",
   "execution_count": 29,
   "id": "b2225079",
   "metadata": {},
   "outputs": [],
   "source": [
    "db.close()"
   ]
  },
  {
   "cell_type": "code",
   "execution_count": 30,
   "id": "fc837f6d",
   "metadata": {},
   "outputs": [],
   "source": [
    "def example():\n",
    "    print(\"Before yield\")\n",
    "    yield 10\n",
    "    print(\"After yield\")"
   ]
  },
  {
   "cell_type": "code",
   "execution_count": 31,
   "id": "7728eecf",
   "metadata": {},
   "outputs": [
    {
     "name": "stdout",
     "output_type": "stream",
     "text": [
      "<generator object example at 0x00000220122F4940>\n"
     ]
    }
   ],
   "source": [
    "a = example()\n",
    "print(a)"
   ]
  },
  {
   "cell_type": "code",
   "execution_count": 34,
   "id": "74ee407b",
   "metadata": {},
   "outputs": [
    {
     "data": {
      "text/plain": [
       "<generator object example at 0x000002201530C4C0>"
      ]
     },
     "execution_count": 34,
     "metadata": {},
     "output_type": "execute_result"
    }
   ],
   "source": [
    "a = example()\n",
    "a"
   ]
  },
  {
   "cell_type": "code",
   "execution_count": null,
   "id": "b3211d33",
   "metadata": {},
   "outputs": [],
   "source": [
    "a"
   ]
  },
  {
   "cell_type": "code",
   "execution_count": null,
   "id": "852a5ef1",
   "metadata": {},
   "outputs": [],
   "source": []
  }
 ],
 "metadata": {
  "kernelspec": {
   "display_name": "edubuddy_env",
   "language": "python",
   "name": "python3"
  },
  "language_info": {
   "codemirror_mode": {
    "name": "ipython",
    "version": 3
   },
   "file_extension": ".py",
   "mimetype": "text/x-python",
   "name": "python",
   "nbconvert_exporter": "python",
   "pygments_lexer": "ipython3",
   "version": "3.11.14"
  }
 },
 "nbformat": 4,
 "nbformat_minor": 5
}
