{
 "cells": [
  {
   "cell_type": "code",
   "execution_count": 4,
   "id": "87546600",
   "metadata": {},
   "outputs": [],
   "source": [
    "from passlib.context import CryptContext"
   ]
  },
  {
   "cell_type": "code",
   "execution_count": 5,
   "id": "9875c293",
   "metadata": {},
   "outputs": [],
   "source": [
    "_pwd = CryptContext(schemes=['bcrypt'], deprecated=\"auto\")"
   ]
  },
  {
   "cell_type": "code",
   "execution_count": 6,
   "id": "4c68dafb",
   "metadata": {},
   "outputs": [
    {
     "data": {
      "text/plain": [
       "'$2b$12$ZDwmtEphuaiVWGrtS8eMNOFKZ2QEz5yE0zmLLY3hLJV/Q2GwtE4Hm'"
      ]
     },
     "execution_count": 6,
     "metadata": {},
     "output_type": "execute_result"
    }
   ],
   "source": [
    "pw = \"password123\"\n",
    "def hash_password(plain: str) -> str:\n",
    "    return _pwd.hash(plain)\n",
    "\n",
    "hash_password(pw)"
   ]
  },
  {
   "cell_type": "code",
   "execution_count": 8,
   "id": "a087425c",
   "metadata": {},
   "outputs": [],
   "source": [
    "hash = _pwd.hash(pw)"
   ]
  },
  {
   "cell_type": "code",
   "execution_count": 10,
   "id": "94d653e1",
   "metadata": {},
   "outputs": [],
   "source": [
    "cow = 'iamcow'"
   ]
  },
  {
   "cell_type": "code",
   "execution_count": 11,
   "id": "b5f425e1",
   "metadata": {},
   "outputs": [
    {
     "data": {
      "text/plain": [
       "False"
      ]
     },
     "execution_count": 11,
     "metadata": {},
     "output_type": "execute_result"
    }
   ],
   "source": [
    "_pwd.verify(cow,hash)"
   ]
  },
  {
   "cell_type": "code",
   "execution_count": null,
   "id": "33b085c0",
   "metadata": {},
   "outputs": [],
   "source": []
  }
 ],
 "metadata": {
  "kernelspec": {
   "display_name": "edubuddy_env",
   "language": "python",
   "name": "python3"
  },
  "language_info": {
   "codemirror_mode": {
    "name": "ipython",
    "version": 3
   },
   "file_extension": ".py",
   "mimetype": "text/x-python",
   "name": "python",
   "nbconvert_exporter": "python",
   "pygments_lexer": "ipython3",
   "version": "3.11.14"
  }
 },
 "nbformat": 4,
 "nbformat_minor": 5
}
