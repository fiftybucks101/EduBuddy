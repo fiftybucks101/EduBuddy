{
 "cells": [
  {
   "cell_type": "code",
   "execution_count": 9,
   "id": "19166167",
   "metadata": {},
   "outputs": [],
   "source": [
    "from sqlalchemy import create_engine, Column, Integer, String\n",
    "from sqlalchemy.orm import sessionmaker, declarative_base"
   ]
  },
  {
   "cell_type": "code",
   "execution_count": 10,
   "id": "1b0f8c68",
   "metadata": {},
   "outputs": [],
   "source": [
    "DATABASE_URL = \"sqlite:///./test.db\""
   ]
  },
  {
   "cell_type": "code",
   "execution_count": 11,
   "id": "8f360df1",
   "metadata": {},
   "outputs": [],
   "source": [
    "engine = create_engine(DATABASE_URL, connect_args={\"check_same_thread\": False})"
   ]
  },
  {
   "cell_type": "code",
   "execution_count": 12,
   "id": "96098252",
   "metadata": {},
   "outputs": [
    {
     "name": "stdout",
     "output_type": "stream",
     "text": [
      "Engine(sqlite:///./test.db)\n"
     ]
    }
   ],
   "source": [
    "print(engine)"
   ]
  },
  {
   "cell_type": "code",
   "execution_count": 13,
   "id": "ab94508b",
   "metadata": {},
   "outputs": [],
   "source": [
    "Base = declarative_base()"
   ]
  },
  {
   "cell_type": "code",
   "execution_count": 14,
   "id": "11978acd",
   "metadata": {},
   "outputs": [
    {
     "name": "stdout",
     "output_type": "stream",
     "text": [
      "<class 'sqlalchemy.orm.decl_api.Base'>\n"
     ]
    }
   ],
   "source": [
    "print(Base)"
   ]
  },
  {
   "cell_type": "code",
   "execution_count": 15,
   "id": "8982ba70",
   "metadata": {},
   "outputs": [],
   "source": [
    "class Userr(Base):\n",
    "    __tablename__ = \"usersss\"\n",
    "\n",
    "    id = Column(Integer, primary_key=True, index=True)\n",
    "    name = Column(String)\n",
    "    email = Column(String)"
   ]
  },
  {
   "cell_type": "code",
   "execution_count": 16,
   "id": "815d0374",
   "metadata": {},
   "outputs": [],
   "source": [
    "SessionLocal = sessionmaker(bind=engine, autocommit=False, autoflush=False )"
   ]
  },
  {
   "cell_type": "code",
   "execution_count": 17,
   "id": "d5c14510",
   "metadata": {},
   "outputs": [],
   "source": [
    "Base.metadata.create_all(bind=engine)"
   ]
  },
  {
   "cell_type": "code",
   "execution_count": 18,
   "id": "8287a93e",
   "metadata": {},
   "outputs": [],
   "source": [
    "db = SessionLocal()"
   ]
  },
  {
   "cell_type": "code",
   "execution_count": 19,
   "id": "3a380e8c",
   "metadata": {},
   "outputs": [
    {
     "name": "stdout",
     "output_type": "stream",
     "text": [
      "<sqlalchemy.orm.session.Session object at 0x000002201526F850>\n"
     ]
    }
   ],
   "source": [
    "print(db)"
   ]
  },
  {
   "cell_type": "code",
   "execution_count": 20,
   "id": "821dc7c7",
   "metadata": {},
   "outputs": [],
   "source": [
    "new_user = Userr(name=\"Alice\", email=\"alice@example.com\")\n",
    "db.add(new_user)\n",
    "db.commit()"
   ]
  },
  {
   "cell_type": "code",
   "execution_count": 21,
   "id": "31cee01e",
   "metadata": {},
   "outputs": [
    {
     "name": "stdout",
     "output_type": "stream",
     "text": [
      "User added: 1, Alice, alice@example.com\n"
     ]
    }
   ],
   "source": [
    "db.refresh(new_user)\n",
    "print(f\"User added: {new_user.id}, {new_user.name}, {new_user.email}\")"
   ]
  },
  {
   "cell_type": "code",
   "execution_count": 23,
   "id": "bac1f9a7",
   "metadata": {},
   "outputs": [],
   "source": [
    "db.close()"
   ]
  },
  {
   "cell_type": "code",
   "execution_count": 24,
   "id": "905b080f",
   "metadata": {},
   "outputs": [
    {
     "name": "stdout",
     "output_type": "stream",
     "text": [
      "[<__main__.Userr object at 0x00000220144CF790>]\n"
     ]
    }
   ],
   "source": [
    "db = SessionLocal()\n",
    "\n",
    "users = db.query(Userr).all()\n",
    "\n",
    "print(users)\n"
   ]
  },
  {
   "cell_type": "code",
   "execution_count": 25,
   "id": "ae52da0d",
   "metadata": {},
   "outputs": [],
   "source": [
    "new_user = Userr(name=\"Bob\", email=\"Bob@example.com\")\n",
    "db.add(new_user)\n",
    "db.commit()"
   ]
  },
  {
   "cell_type": "code",
   "execution_count": 26,
   "id": "a2bab63a",
   "metadata": {},
   "outputs": [
    {
     "name": "stdout",
     "output_type": "stream",
     "text": [
      "User added: 2, Bob, Bob@example.com\n"
     ]
    }
   ],
   "source": [
    "db.refresh(new_user)\n",
    "print(f\"User added: {new_user.id}, {new_user.name}, {new_user.email}\")"
   ]
  },
  {
   "cell_type": "code",
   "execution_count": 27,
   "id": "e01d5c55",
   "metadata": {},
   "outputs": [
    {
     "name": "stdout",
     "output_type": "stream",
     "text": [
      "[<__main__.Userr object at 0x00000220144CF790>, <__main__.Userr object at 0x0000022015297310>]\n"
     ]
    }
   ],
   "source": [
    "users = db.query(Userr).all()\n",
    "\n",
    "print(users)"
   ]
  },
  {
   "cell_type": "code",
   "execution_count": 28,
   "id": "22be42bb",
   "metadata": {},
   "outputs": [
    {
     "name": "stdout",
     "output_type": "stream",
     "text": [
      "1 Alice alice@example.com\n",
      "2 Bob Bob@example.com\n"
     ]
    }
   ],
   "source": [
    "for user in users:\n",
    "    print(user.id, user.name, user.email)"
   ]
  },
  {
   "cell_type": "code",
   "execution_count": 29,
   "id": "b2225079",
   "metadata": {},
   "outputs": [],
   "source": [
    "db.close()"
   ]
  },
  {
   "cell_type": "code",
   "execution_count": 30,
   "id": "fc837f6d",
   "metadata": {},
   "outputs": [],
   "source": [
    "def example():\n",
    "    print(\"Before yield\")\n",
    "    yield 10\n",
    "    print(\"After yield\")"
   ]
  },
  {
   "cell_type": "code",
   "execution_count": 31,
   "id": "7728eecf",
   "metadata": {},
   "outputs": [
    {
     "name": "stdout",
     "output_type": "stream",
     "text": [
      "<generator object example at 0x00000220122F4940>\n"
     ]
    }
   ],
   "source": [
    "a = example()\n",
    "print(a)"
   ]
  },
  {
   "cell_type": "code",
   "execution_count": 34,
   "id": "74ee407b",
   "metadata": {},
   "outputs": [
    {
     "data": {
      "text/plain": [
       "<generator object example at 0x000002201530C4C0>"
      ]
     },
     "execution_count": 34,
     "metadata": {},
     "output_type": "execute_result"
    }
   ],
   "source": [
    "a = example()\n",
    "a"
   ]
  },
  {
   "cell_type": "code",
   "execution_count": null,
   "id": "b3211d33",
   "metadata": {},
   "outputs": [],
   "source": [
    "a"
   ]
  }
 ],
 "metadata": {
  "kernelspec": {
   "display_name": "edubuddy_env",
   "language": "python",
   "name": "python3"
  },
  "language_info": {
   "codemirror_mode": {
    "name": "ipython",
    "version": 3
   },
   "file_extension": ".py",
   "mimetype": "text/x-python",
   "name": "python",
   "nbconvert_exporter": "python",
   "pygments_lexer": "ipython3",
   "version": "3.11.14"
  }
 },
 "nbformat": 4,
 "nbformat_minor": 5
}
